{
  "nbformat": 4,
  "nbformat_minor": 0,
  "metadata": {
    "colab": {
      "provenance": [],
      "gpuType": "T4"
    },
    "kernelspec": {
      "name": "python3",
      "display_name": "Python 3"
    },
    "language_info": {
      "name": "python"
    },
    "accelerator": "GPU"
  },
  "cells": [
    {
      "cell_type": "markdown",
      "source": [
        "**Simple Bitcoin Coin Mining using SHA256**"
      ],
      "metadata": {
        "id": "z2niD3cBBG23"
      }
    },
    {
      "cell_type": "markdown",
      "source": [
        "Importing Libraries"
      ],
      "metadata": {
        "id": "hHA3gI0NBWEK"
      }
    },
    {
      "cell_type": "code",
      "execution_count": 11,
      "metadata": {
        "colab": {
          "base_uri": "https://localhost:8080/"
        },
        "id": "JFeXSpLi72ph",
        "outputId": "24453689-2800-4995-c009-23062a40fc5d"
      },
      "outputs": [
        {
          "output_type": "stream",
          "name": "stdout",
          "text": [
            "4584e499e34fbf508054d388e66581e16c923b0e872c6387cad905eed50bfdd7\n",
            "Start mining\n",
            "Yay! Successfully mined bitcoins with nonce value:2068\n",
            "End mining. Mining took 0.005191326141357422 seconds\n",
            "00054b6fe836de5bdc861d08877b4499bae442372ec7f89f884a6223b266ad2c\n"
          ]
        }
      ],
      "source": [
        "from ast import main\n",
        "from hashlib import sha256\n",
        "import time"
      ]
    },
    {
      "cell_type": "markdown",
      "source": [
        "Function for Returning Hash Code"
      ],
      "metadata": {
        "id": "o6H_UKBKBhjO"
      }
    },
    {
      "cell_type": "code",
      "source": [
        "def SHA256(text):\n",
        "  return sha256(text.encode(\"ascii\")).hexdigest()\n"
      ],
      "metadata": {
        "colab": {
          "base_uri": "https://localhost:8080/",
          "height": 36
        },
        "id": "gLNANHQs8GSS",
        "outputId": "521ee760-3167-42f3-d124-21b4ea7aa6c8"
      },
      "execution_count": 4,
      "outputs": [
        {
          "output_type": "execute_result",
          "data": {
            "text/plain": [
              "'4584e499e34fbf508054d388e66581e16c923b0e872c6387cad905eed50bfdd7'"
            ],
            "application/vnd.google.colaboratory.intrinsic+json": {
              "type": "string"
            }
          },
          "metadata": {},
          "execution_count": 4
        }
      ]
    },
    {
      "cell_type": "markdown",
      "source": [
        "Miner Code"
      ],
      "metadata": {
        "id": "ilYq_5oyBm5g"
      }
    },
    {
      "cell_type": "code",
      "source": [
        "\n",
        "def mine(block_number, transactions, previous_hash, prefix_zeros):\n",
        "  MAX_NONCE=20000\n",
        "  prefix_str = '0'*prefix_zeros\n",
        "  for nonce in range(MAX_NONCE):\n",
        "    text=str(block_number)+transactions+previous_hash+str(nonce)\n",
        "    new_hash=SHA256(text)\n",
        "    if new_hash.startswith(prefix_str):\n",
        "      print(f\"Yay! Successfully mined bitcoins with nonce value:{nonce}\")\n",
        "      return new_hash\n",
        "  raise BaseException(f\"Couldn't find correct hash after trying {MAX_NONCE} times\")\n",
        "\n"
      ],
      "metadata": {
        "id": "bMdcH3inA8ki"
      },
      "execution_count": null,
      "outputs": []
    },
    {
      "cell_type": "markdown",
      "source": [
        "Run Cell"
      ],
      "metadata": {
        "id": "vxVwy4tbBugx"
      }
    },
    {
      "cell_type": "code",
      "source": [
        "if __name__=='__main__':\n",
        "  print(SHA256(\"THARUN\"))\n",
        "  transactions = ''' Dhaval -> Bavin -> 20, Tharun -> Newton ->90 '''\n",
        "  difficulty = 3\n",
        "  start=time.time()\n",
        "  print(\"Start mining\")\n",
        "  new_hash=mine(5,transactions,'0000000xa036944e29568d0cff17edbe038f81208fecf9a66be9a2b', difficulty)\n",
        "  total_time=str((time.time()-start))\n",
        "  print(f\"End mining. Mining took {total_time} seconds\")\n",
        "  print(new_hash)\n",
        ""
      ],
      "metadata": {
        "id": "6EQjq9PyA_VU"
      },
      "execution_count": null,
      "outputs": []
    }
  ]
}